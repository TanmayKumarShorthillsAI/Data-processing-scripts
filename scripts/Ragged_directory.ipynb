{
 "cells": [
  {
   "cell_type": "markdown",
   "id": "1c633204-b769-4830-9162-c06c65f797b3",
   "metadata": {},
   "source": [
    "## Create Ragged Folder Structure"
   ]
  },
  {
   "cell_type": "code",
   "execution_count": 1,
   "id": "cf03c155-d946-48fe-b635-e0e1488f24af",
   "metadata": {},
   "outputs": [
    {
     "name": "stdout",
     "output_type": "stream",
     "text": [
      "Ragged directory structure created at: ../ragged_dir/\n"
     ]
    }
   ],
   "source": [
    "import os\n",
    "import json\n",
    "import random\n",
    "\n",
    "def create_random_json():\n",
    "    data = {\n",
    "        \"id\": random.randint(1, 100),\n",
    "        \"name\": random.choice([\"Alice\", \"Bob\", \"Charlie\", \"Diana\", \"Eve\"]),\n",
    "        \"details\": {\n",
    "            \"age\": random.randint(20, 50),\n",
    "            \"city\": random.choice([\"New York\", \"Los Angeles\", \"Chicago\", \"Houston\", \"Phoenix\"])\n",
    "        },\n",
    "        \"scores\": [random.randint(50, 100) for _ in range(random.randint(3, 6))]\n",
    "    }\n",
    "    return data\n",
    "    \n",
    "def create_ragged_structure(base_path):\n",
    "    os.makedirs(base_path, exist_ok=True)\n",
    "    for i in range(random.randint(3, 5)):\n",
    "        subdir = os.path.join(base_path, f\"folder_{i}\")\n",
    "        os.makedirs(subdir, exist_ok=True)\n",
    "        for j in range(random.randint(2, 4)):\n",
    "            file_path = os.path.join(subdir, f\"file_{j}.json\")\n",
    "            with open(file_path, \"w\") as json_file:\n",
    "                json.dump(create_random_json(), json_file, indent=4)\n",
    "        if random.choice([True, False]):\n",
    "            nested_dir = os.path.join(subdir, f\"nested_{i}\")\n",
    "            os.makedirs(nested_dir, exist_ok=True)\n",
    "            for k in range(random.randint(1, 3)):\n",
    "                file_path = os.path.join(nested_dir, f\"file_{k}.json\")\n",
    "                with open(file_path, \"w\") as json_file:\n",
    "                    json.dump(create_random_json(), json_file, indent=4)\n",
    "\n",
    "\n",
    "def enhance_ragged_structure(base_path):\n",
    "    extensions = ['txt', 'csv', 'xml', 'md']\n",
    "    for i in range(random.randint(2, 4)):\n",
    "        subdir = os.path.join(base_path, f\"extra_folder_{i}\")\n",
    "        os.makedirs(subdir, exist_ok=True)\n",
    "        for j in range(random.randint(1, 3)):\n",
    "            # Add JSON files\n",
    "            file_path_json = os.path.join(subdir, f\"extra_file_{j}.json\")\n",
    "            with open(file_path_json, \"w\") as json_file:\n",
    "                json.dump(create_random_json(), json_file, indent=4)\n",
    "            \n",
    "            # Add files with other extensions\n",
    "            ext = random.choice(extensions)\n",
    "            file_path_other = os.path.join(subdir, f\"extra_file_{j}.{ext}\")\n",
    "            with open(file_path_other, \"w\") as other_file:\n",
    "                other_file.write(f\"This is a random {ext.upper()} file.\\n\")\n",
    "        \n",
    "        # Add further nesting randomly\n",
    "        if random.choice([True, False]):\n",
    "            nested_dir = os.path.join(subdir, f\"deep_nested_{i}\")\n",
    "            os.makedirs(nested_dir, exist_ok=True)\n",
    "            for k in range(random.randint(1, 2)):\n",
    "                file_path_other = os.path.join(nested_dir, f\"deep_file_{k}.txt\")\n",
    "                with open(file_path_other, \"w\") as other_file:\n",
    "                    other_file.write(\"This is a deeply nested text file.\\n\")\n",
    "\n",
    "base_directory = \"../ragged_dir/\"\n",
    "create_ragged_structure(base_directory)\n",
    "enhance_ragged_structure(base_directory)\n",
    "\n",
    "\n",
    "print(f\"Ragged directory structure created at: {base_directory}\")\n"
   ]
  },
  {
   "cell_type": "markdown",
   "id": "52e98295-053e-44ab-9f4b-7d3ffca37d4f",
   "metadata": {},
   "source": [
    "## Read and generate CSV form json files"
   ]
  },
  {
   "cell_type": "code",
   "execution_count": 2,
   "id": "5450ad7e-2914-45c4-a70d-173a4cd50ab0",
   "metadata": {},
   "outputs": [],
   "source": [
    "import pandas as pd\n",
    "import json\n",
    "from pandas import json_normalize\n",
    "import os"
   ]
  },
  {
   "cell_type": "code",
   "execution_count": 3,
   "id": "4437ac9d-47a1-4e3d-80d8-6f6c0c5eeeeb",
   "metadata": {},
   "outputs": [],
   "source": [
    "def make_dataframe(file_path):\n",
    "    with open(file_path, 'r') as file:\n",
    "        data = json.load(file)\n",
    "    df = json_normalize(data)\n",
    "    return df"
   ]
  },
  {
   "cell_type": "code",
   "execution_count": null,
   "id": "30332eab-16c8-4da0-9c10-56b988e4b953",
   "metadata": {},
   "outputs": [],
   "source": []
  },
  {
   "cell_type": "code",
   "execution_count": 4,
   "id": "16e67d1a-4c30-40f1-9baa-c7b4f1575ce0",
   "metadata": {},
   "outputs": [],
   "source": [
    "json_Dataframes = []\n",
    "for root, dirs, files in os.walk(base_directory):\n",
    "    for file in files:\n",
    "        if file.endswith(\".json\"):\n",
    "            file_path = os.path.join(root, file)\n",
    "            \n",
    "            json_Dataframes.append({\"file_name\":file,\"df\":make_dataframe(file_path)})"
   ]
  },
  {
   "cell_type": "code",
   "execution_count": 6,
   "id": "9659789e-334d-4829-b8f8-1df0e0074fdc",
   "metadata": {},
   "outputs": [
    {
     "name": "stdout",
     "output_type": "stream",
     "text": [
      "file saved to: ./outputs/csv_files/file_1.json.csv\n",
      "file saved to: ./outputs/csv_files/file_0.json.csv\n",
      "file saved to: ./outputs/csv_files/file_2.json.csv\n",
      "file saved to: ./outputs/csv_files/file_1.json.csv\n",
      "file saved to: ./outputs/csv_files/file_0.json.csv\n",
      "file saved to: ./outputs/csv_files/file_2.json.csv\n",
      "file saved to: ./outputs/csv_files/file_3.json.csv\n",
      "file saved to: ./outputs/csv_files/file_1.json.csv\n",
      "file saved to: ./outputs/csv_files/file_0.json.csv\n",
      "file saved to: ./outputs/csv_files/file_2.json.csv\n",
      "file saved to: ./outputs/csv_files/file_0.json.csv\n",
      "file saved to: ./outputs/csv_files/extra_file_2.json.csv\n",
      "file saved to: ./outputs/csv_files/extra_file_1.json.csv\n",
      "file saved to: ./outputs/csv_files/extra_file_0.json.csv\n",
      "file saved to: ./outputs/csv_files/extra_file_1.json.csv\n",
      "file saved to: ./outputs/csv_files/extra_file_0.json.csv\n",
      "file saved to: ./outputs/csv_files/extra_file_0.json.csv\n",
      "file saved to: ./outputs/csv_files/extra_file_2.json.csv\n",
      "file saved to: ./outputs/csv_files/extra_file_1.json.csv\n",
      "file saved to: ./outputs/csv_files/extra_file_0.json.csv\n",
      "file saved to: ./outputs/csv_files/file_3.json.csv\n",
      "file saved to: ./outputs/csv_files/file_1.json.csv\n",
      "file saved to: ./outputs/csv_files/file_0.json.csv\n",
      "file saved to: ./outputs/csv_files/file_2.json.csv\n",
      "file saved to: ./outputs/csv_files/file_1.json.csv\n",
      "file saved to: ./outputs/csv_files/file_0.json.csv\n",
      "file saved to: ./outputs/csv_files/file_2.json.csv\n",
      "file saved to: ./outputs/csv_files/file_3.json.csv\n",
      "file saved to: ./outputs/csv_files/file_1.json.csv\n",
      "file saved to: ./outputs/csv_files/file_0.json.csv\n",
      "file saved to: ./outputs/csv_files/file_2.json.csv\n",
      "file saved to: ./outputs/csv_files/file_1.json.csv\n",
      "file saved to: ./outputs/csv_files/file_0.json.csv\n",
      "file saved to: ./outputs/csv_files/file_3.json.csv\n",
      "file saved to: ./outputs/csv_files/file_1.json.csv\n",
      "file saved to: ./outputs/csv_files/file_0.json.csv\n",
      "file saved to: ./outputs/csv_files/file_2.json.csv\n"
     ]
    }
   ],
   "source": [
    "output_dir = \"./outputs/csv_files\"\n",
    "os.makedirs(output_dir, exist_ok = True)\n",
    "for df in json_Dataframes:\n",
    "    file_path = os.path.join(output_dir,f'{df[\"file_name\"]}.csv')\n",
    "    df[\"df\"].to_csv(file_path)\n",
    "    print(f\"file saved to: {file_path}\")"
   ]
  },
  {
   "cell_type": "code",
   "execution_count": null,
   "id": "d868653b-46bd-4379-871f-c43f593cea92",
   "metadata": {},
   "outputs": [],
   "source": []
  }
 ],
 "metadata": {
  "kernelspec": {
   "display_name": "Python 3 (ipykernel)",
   "language": "python",
   "name": "python3"
  },
  "language_info": {
   "codemirror_mode": {
    "name": "ipython",
    "version": 3
   },
   "file_extension": ".py",
   "mimetype": "text/x-python",
   "name": "python",
   "nbconvert_exporter": "python",
   "pygments_lexer": "ipython3",
   "version": "3.10.12"
  }
 },
 "nbformat": 4,
 "nbformat_minor": 5
}
